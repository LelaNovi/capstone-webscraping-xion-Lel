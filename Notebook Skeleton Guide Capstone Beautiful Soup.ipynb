{
 "cells": [
  {
   "cell_type": "markdown",
   "metadata": {},
   "source": [
    "# Capstone Webscrapping using BeautifulSoup\n",
    "\n",
    "This notebook contains guidances & tasks on the data processing for the application\n",
    "\n",
    "## background\n",
    "\n",
    "This project aim to scrap the data from the website and make visualization to pandas\n",
    "\n",
    "## Requesting the Data and Creating a BeautifulSoup\n",
    "\n",
    "Let's begin with requesting the web from the site with `get` method."
   ]
  },
  {
   "cell_type": "code",
   "execution_count": 39,
   "metadata": {
    "ExecuteTime": {
     "end_time": "2020-01-13T05:12:23.275508Z",
     "start_time": "2020-01-13T05:12:20.009898Z"
    }
   },
   "outputs": [],
   "source": [
    "import requests\n",
    "\n",
    "url_get = requests.get('https://www.exchange-rates.org/history/IDR/USD/T')"
   ]
  },
  {
   "cell_type": "markdown",
   "metadata": {},
   "source": [
    "To visualize what exactly you get from the `request.get`, we can use .content so ee what we exactly get, in here i slice it so it won't make our screen full of the html we get from the page. You can delete the slicing if you want to see what we fully get."
   ]
  },
  {
   "cell_type": "code",
   "execution_count": 40,
   "metadata": {
    "ExecuteTime": {
     "end_time": "2020-01-13T05:12:23.290648Z",
     "start_time": "2020-01-13T05:12:23.277650Z"
    }
   },
   "outputs": [
    {
     "data": {
      "text/plain": [
       "b'!DOCTYPE html>\\r\\n<!--[if lt IE 9]>\\r\\n<html class=\"no-js ie8 oldie\" lang=\"en\" xml:lang=\\'en\\'>\\r\\n<![endif]-->\\r\\n<!--[if gt IE 8]><!--><html class=\"no-js\" lang=\"en\" xml:lang=\\'en\\'><!--<![endif]-->\\r\\n<head>\\r\\n<title>USD to IDR exchange rate history</title>\\r\\n<meta http-equiv=\"X-UA-Compatible\" content=\"IE=edge\">\\r\\n<meta name=\"viewport\" content=\"width=device-width, initial-scale=1, maximum-scale=5\">\\r\\n<meta charset=\"utf-8\" /><meta http-equiv=\"Content-Type\" content=\"text/html; charset=utf-8\" />\\r\\n<base href=\"http'"
      ]
     },
     "execution_count": 40,
     "metadata": {},
     "output_type": "execute_result"
    }
   ],
   "source": [
    "url_get.content[1:500]"
   ]
  },
  {
   "cell_type": "markdown",
   "metadata": {},
   "source": [
    "As we can see we get a very unstructured and complex html, which actually contains the codes needed to show the webpages on your web browser. But we as human still confused what and where we can use that piece of code, so here where we use the beautifulsoup. Beautiful soup class will result a beautifulsoup object. Beautiful Soup transforms a complex HTML document into a complex tree of Python objects. \n",
    "\n",
    "Let's make Beautiful soup object and feel free to explore the object here."
   ]
  },
  {
   "cell_type": "code",
   "execution_count": 41,
   "metadata": {
    "ExecuteTime": {
     "end_time": "2020-01-13T05:12:23.808122Z",
     "start_time": "2020-01-13T05:12:23.292610Z"
    }
   },
   "outputs": [],
   "source": [
    "from bs4 import BeautifulSoup \n",
    "\n",
    "soup = BeautifulSoup(url_get.content,\"html.parser\")"
   ]
  },
  {
   "cell_type": "markdown",
   "metadata": {},
   "source": [
    "## Finding the right key to scrap the data & Extracting the right information"
   ]
  },
  {
   "cell_type": "markdown",
   "metadata": {},
   "source": [
    "Find the key and put the key into the `.find()` Put all the exploring the right key at this cell. The data from https://www.exchange-rates.org/history/IDR/USD/T, we will see daily exchange rate movements dollar to Rupiah."
   ]
  },
  {
   "cell_type": "code",
   "execution_count": 42,
   "metadata": {
    "ExecuteTime": {
     "end_time": "2020-01-13T05:12:23.878904Z",
     "start_time": "2020-01-13T05:12:23.854974Z"
    }
   },
   "outputs": [
    {
     "name": "stdout",
     "output_type": "stream",
     "text": [
      "table border=\"0\" cellpadding=\"0\" cellspacing=\"0\" class=\"history-rates-data\">\n",
      " <thead>\n",
      "  <tr>\n",
      "   <th class=\"ltr-bidi-fix\">\n",
      "    Date\n",
      "   </th>\n",
      "   <th class=\"ltr-bidi-fix\">\n",
      "    US Dollar to Indonesian Rupiah\n",
      "   </th>\n",
      "  </tr>\n",
      " </thead>\n",
      " <tbody>\n",
      "  <tr>\n",
      "   <td>\n",
      "    <a class=\"w\" href=\"/exchange-rate-history/usd-idr-2023-12-14\">\n",
      "     December 14, 2023\n",
      "    </a>\n",
      "    <a class=\"n\" href=\"/exchange-rate-history/usd-idr-2023-12-14\">\n",
      "     2023-12-14\n",
      "    </a>\n",
      "   </td>\n",
      "   <td>\n",
      "    <span class=\"w\">\n",
      "     <span clas\n"
     ]
    }
   ],
   "source": [
    "table = soup.find('table', attrs = {'class':'history-rates-data'})\n",
    "print(table.prettify()[1:500])"
   ]
  },
  {
   "cell_type": "markdown",
   "metadata": {},
   "source": [
    "Finding row length."
   ]
  },
  {
   "cell_type": "code",
   "execution_count": 43,
   "metadata": {},
   "outputs": [
    {
     "data": {
      "text/plain": [
       "129"
      ]
     },
     "execution_count": 43,
     "metadata": {},
     "output_type": "execute_result"
    }
   ],
   "source": [
    "row = table.find_all('a', attrs = {'class':'w'})\n",
    "row_length = len(row)\n",
    "row_length"
   ]
  },
  {
   "cell_type": "markdown",
   "metadata": {},
   "source": [
    "Do the scrapping process here (please change this markdown with your explanation)"
   ]
  },
  {
   "cell_type": "code",
   "execution_count": 44,
   "metadata": {
    "ExecuteTime": {
     "end_time": "2020-01-13T05:12:24.008256Z",
     "start_time": "2020-01-13T05:12:23.980358Z"
    }
   },
   "outputs": [
    {
     "data": {
      "text/plain": [
       "[('December 14, 2023', '$1 = Rp15,476'),\n",
       " ('December 13, 2023', '$1 = Rp15,360'),\n",
       " ('December 12, 2023', '$1 = Rp15,576'),\n",
       " ('December 11, 2023', '$1 = Rp15,653'),\n",
       " ('December 8, 2023', '$1 = Rp15,573'),\n",
       " ('December 7, 2023', '$1 = Rp15,507'),\n",
       " ('December 6, 2023', '$1 = Rp15,514'),\n",
       " ('December 5, 2023', '$1 = Rp15,463'),\n",
       " ('December 4, 2023', '$1 = Rp15,485'),\n",
       " ('December 1, 2023', '$1 = Rp15,413'),\n",
       " ('November 30, 2023', '$1 = Rp15,559'),\n",
       " ('November 29, 2023', '$1 = Rp15,459'),\n",
       " ('November 28, 2023', '$1 = Rp15,352'),\n",
       " ('November 27, 2023', '$1 = Rp15,505'),\n",
       " ('November 24, 2023', '$1 = Rp15,540'),\n",
       " ('November 23, 2023', '$1 = Rp15,633'),\n",
       " ('November 22, 2023', '$1 = Rp15,656'),\n",
       " ('November 21, 2023', '$1 = Rp15,517'),\n",
       " ('November 20, 2023', '$1 = Rp15,389'),\n",
       " ('November 17, 2023', '$1 = Rp15,424'),\n",
       " ('November 16, 2023', '$1 = Rp15,484'),\n",
       " ('November 15, 2023', '$1 = Rp15,519'),\n",
       " ('November 14, 2023', '$1 = Rp15,459'),\n",
       " ('November 13, 2023', '$1 = Rp15,683'),\n",
       " ('November 10, 2023', '$1 = Rp15,694'),\n",
       " ('November 9, 2023', '$1 = Rp15,715'),\n",
       " ('November 8, 2023', '$1 = Rp15,625'),\n",
       " ('November 7, 2023', '$1 = Rp15,651'),\n",
       " ('November 6, 2023', '$1 = Rp15,577'),\n",
       " ('November 3, 2023', '$1 = Rp15,589'),\n",
       " ('November 2, 2023', '$1 = Rp15,852'),\n",
       " ('November 1, 2023', '$1 = Rp15,899'),\n",
       " ('October 31, 2023', '$1 = Rp15,919'),\n",
       " ('October 30, 2023', '$1 = Rp15,854'),\n",
       " ('October 27, 2023', '$1 = Rp15,911'),\n",
       " ('October 26, 2023', '$1 = Rp15,927'),\n",
       " ('October 25, 2023', '$1 = Rp15,881'),\n",
       " ('October 24, 2023', '$1 = Rp15,869'),\n",
       " ('October 23, 2023', '$1 = Rp15,897'),\n",
       " ('October 20, 2023', '$1 = Rp15,879'),\n",
       " ('October 19, 2023', '$1 = Rp15,864'),\n",
       " ('October 18, 2023', '$1 = Rp15,824'),\n",
       " ('October 17, 2023', '$1 = Rp15,730'),\n",
       " ('October 16, 2023', '$1 = Rp15,676'),\n",
       " ('October 13, 2023', '$1 = Rp15,703'),\n",
       " ('October 12, 2023', '$1 = Rp15,750'),\n",
       " ('October 11, 2023', '$1 = Rp15,700'),\n",
       " ('October 10, 2023', '$1 = Rp15,716'),\n",
       " ('October 9, 2023', '$1 = Rp15,705'),\n",
       " ('October 6, 2023', '$1 = Rp15,648'),\n",
       " ('October 5, 2023', '$1 = Rp15,636'),\n",
       " ('October 4, 2023', '$1 = Rp15,596'),\n",
       " ('October 3, 2023', '$1 = Rp15,620'),\n",
       " ('October 2, 2023', '$1 = Rp15,538'),\n",
       " ('September 29, 2023', '$1 = Rp15,493'),\n",
       " ('September 28, 2023', '$1 = Rp15,473'),\n",
       " ('September 27, 2023', '$1 = Rp15,573'),\n",
       " ('September 26, 2023', '$1 = Rp15,493'),\n",
       " ('September 25, 2023', '$1 = Rp15,412'),\n",
       " ('September 22, 2023', '$1 = Rp15,357'),\n",
       " ('September 21, 2023', '$1 = Rp15,408'),\n",
       " ('September 20, 2023', '$1 = Rp15,368'),\n",
       " ('September 19, 2023', '$1 = Rp15,382'),\n",
       " ('September 18, 2023', '$1 = Rp15,373'),\n",
       " ('September 15, 2023', '$1 = Rp15,367'),\n",
       " ('September 14, 2023', '$1 = Rp15,402'),\n",
       " ('September 13, 2023', '$1 = Rp15,361'),\n",
       " ('September 12, 2023', '$1 = Rp15,358'),\n",
       " ('September 11, 2023', '$1 = Rp15,348'),\n",
       " ('September 8, 2023', '$1 = Rp15,382'),\n",
       " ('September 7, 2023', '$1 = Rp15,361'),\n",
       " ('September 6, 2023', '$1 = Rp15,340'),\n",
       " ('September 5, 2023', '$1 = Rp15,320'),\n",
       " ('September 4, 2023', '$1 = Rp15,230'),\n",
       " ('September 1, 2023', '$1 = Rp15,258'),\n",
       " ('August 31, 2023', '$1 = Rp15,225'),\n",
       " ('August 30, 2023', '$1 = Rp15,223'),\n",
       " ('August 29, 2023', '$1 = Rp15,202'),\n",
       " ('August 28, 2023', '$1 = Rp15,248'),\n",
       " ('August 25, 2023', '$1 = Rp15,298'),\n",
       " ('August 24, 2023', '$1 = Rp15,246'),\n",
       " ('August 23, 2023', '$1 = Rp15,301'),\n",
       " ('August 22, 2023', '$1 = Rp15,324'),\n",
       " ('August 21, 2023', '$1 = Rp15,325'),\n",
       " ('August 18, 2023', '$1 = Rp15,321'),\n",
       " ('August 17, 2023', '$1 = Rp15,343'),\n",
       " ('August 16, 2023', '$1 = Rp15,369'),\n",
       " ('August 15, 2023', '$1 = Rp15,318'),\n",
       " ('August 14, 2023', '$1 = Rp15,330'),\n",
       " ('August 11, 2023', '$1 = Rp15,324'),\n",
       " ('August 10, 2023', '$1 = Rp15,263'),\n",
       " ('August 9, 2023', '$1 = Rp15,214'),\n",
       " ('August 8, 2023', '$1 = Rp15,212'),\n",
       " ('August 7, 2023', '$1 = Rp15,225'),\n",
       " ('August 4, 2023', '$1 = Rp15,153'),\n",
       " ('August 3, 2023', '$1 = Rp15,148'),\n",
       " ('August 2, 2023', '$1 = Rp15,227'),\n",
       " ('August 1, 2023', '$1 = Rp15,121'),\n",
       " ('July 31, 2023', '$1 = Rp15,099'),\n",
       " ('July 28, 2023', '$1 = Rp15,107'),\n",
       " ('July 27, 2023', '$1 = Rp15,102'),\n",
       " ('July 26, 2023', '$1 = Rp15,009'),\n",
       " ('July 25, 2023', '$1 = Rp15,027'),\n",
       " ('July 24, 2023', '$1 = Rp15,022'),\n",
       " ('July 21, 2023', '$1 = Rp15,043'),\n",
       " ('July 20, 2023', '$1 = Rp15,056'),\n",
       " ('July 19, 2023', '$1 = Rp15,009'),\n",
       " ('July 18, 2023', '$1 = Rp14,989'),\n",
       " ('July 17, 2023', '$1 = Rp14,972'),\n",
       " ('July 14, 2023', '$1 = Rp15,003'),\n",
       " ('July 13, 2023', '$1 = Rp14,954'),\n",
       " ('July 12, 2023', '$1 = Rp14,935'),\n",
       " ('July 11, 2023', '$1 = Rp15,140'),\n",
       " ('July 10, 2023', '$1 = Rp15,187'),\n",
       " ('July 7, 2023', '$1 = Rp15,162'),\n",
       " ('July 6, 2023', '$1 = Rp15,178'),\n",
       " ('July 5, 2023', '$1 = Rp15,078'),\n",
       " ('July 4, 2023', '$1 = Rp15,020'),\n",
       " ('July 3, 2023', '$1 = Rp15,063'),\n",
       " ('June 30, 2023', '$1 = Rp15,040'),\n",
       " ('June 29, 2023', '$1 = Rp15,059'),\n",
       " ('June 28, 2023', '$1 = Rp14,985'),\n",
       " ('June 27, 2023', '$1 = Rp14,988'),\n",
       " ('June 26, 2023', '$1 = Rp15,045'),\n",
       " ('June 23, 2023', '$1 = Rp15,045'),\n",
       " ('June 22, 2023', '$1 = Rp14,939'),\n",
       " ('June 21, 2023', '$1 = Rp14,945'),\n",
       " ('June 20, 2023', '$1 = Rp15,015'),\n",
       " ('June 19, 2023', '$1 = Rp15,014')]"
      ]
     },
     "execution_count": 44,
     "metadata": {},
     "output_type": "execute_result"
    }
   ],
   "source": [
    "temp = [] #initiating a tuple\n",
    "\n",
    "for i in range(0, row_length):\n",
    "\n",
    "    #scrapping process\n",
    "    Date = table.find_all('a', attrs = {'class':'w'})[i].text\n",
    "\n",
    "    Harga = table.find_all('span', attrs = {'class':'w'})[i].text\n",
    "    Harga = Harga.strip()\n",
    "\n",
    "    temp.append((Date,Harga))\n",
    "    \n",
    "temp "
   ]
  },
  {
   "cell_type": "markdown",
   "metadata": {},
   "source": [
    "## Creating data frame & Data wrangling"
   ]
  },
  {
   "cell_type": "markdown",
   "metadata": {},
   "source": [
    "Put the array into dataframe"
   ]
  },
  {
   "cell_type": "code",
   "execution_count": 45,
   "metadata": {
    "ExecuteTime": {
     "end_time": "2020-01-13T05:12:41.517372Z",
     "start_time": "2020-01-13T05:12:29.130015Z"
    }
   },
   "outputs": [
    {
     "data": {
      "text/html": [
       "<div>\n",
       "<style scoped>\n",
       "    .dataframe tbody tr th:only-of-type {\n",
       "        vertical-align: middle;\n",
       "    }\n",
       "\n",
       "    .dataframe tbody tr th {\n",
       "        vertical-align: top;\n",
       "    }\n",
       "\n",
       "    .dataframe thead th {\n",
       "        text-align: right;\n",
       "    }\n",
       "</style>\n",
       "<table border=\"1\" class=\"dataframe\">\n",
       "  <thead>\n",
       "    <tr style=\"text-align: right;\">\n",
       "      <th></th>\n",
       "      <th>Date</th>\n",
       "      <th>Harga</th>\n",
       "    </tr>\n",
       "  </thead>\n",
       "  <tbody>\n",
       "    <tr>\n",
       "      <th>0</th>\n",
       "      <td>December 14, 2023</td>\n",
       "      <td>$1 = Rp15,476</td>\n",
       "    </tr>\n",
       "    <tr>\n",
       "      <th>1</th>\n",
       "      <td>December 13, 2023</td>\n",
       "      <td>$1 = Rp15,360</td>\n",
       "    </tr>\n",
       "    <tr>\n",
       "      <th>2</th>\n",
       "      <td>December 12, 2023</td>\n",
       "      <td>$1 = Rp15,576</td>\n",
       "    </tr>\n",
       "    <tr>\n",
       "      <th>3</th>\n",
       "      <td>December 11, 2023</td>\n",
       "      <td>$1 = Rp15,653</td>\n",
       "    </tr>\n",
       "    <tr>\n",
       "      <th>4</th>\n",
       "      <td>December 8, 2023</td>\n",
       "      <td>$1 = Rp15,573</td>\n",
       "    </tr>\n",
       "  </tbody>\n",
       "</table>\n",
       "</div>"
      ],
      "text/plain": [
       "                Date          Harga\n",
       "0  December 14, 2023  $1 = Rp15,476\n",
       "1  December 13, 2023  $1 = Rp15,360\n",
       "2  December 12, 2023  $1 = Rp15,576\n",
       "3  December 11, 2023  $1 = Rp15,653\n",
       "4   December 8, 2023  $1 = Rp15,573"
      ]
     },
     "execution_count": 45,
     "metadata": {},
     "output_type": "execute_result"
    }
   ],
   "source": [
    "import pandas as pd\n",
    "\n",
    "df = pd.DataFrame(temp, columns = ('Date', 'Harga'))\n",
    "df.head()"
   ]
  },
  {
   "cell_type": "markdown",
   "metadata": {},
   "source": [
    "first will check the strukture data"
   ]
  },
  {
   "cell_type": "code",
   "execution_count": 46,
   "metadata": {},
   "outputs": [
    {
     "data": {
      "text/plain": [
       "Date     object\n",
       "Harga    object\n",
       "dtype: object"
      ]
     },
     "execution_count": 46,
     "metadata": {},
     "output_type": "execute_result"
    }
   ],
   "source": [
    "df.dtypes"
   ]
  },
  {
   "cell_type": "code",
   "execution_count": 47,
   "metadata": {},
   "outputs": [
    {
     "data": {
      "text/html": [
       "<div>\n",
       "<style scoped>\n",
       "    .dataframe tbody tr th:only-of-type {\n",
       "        vertical-align: middle;\n",
       "    }\n",
       "\n",
       "    .dataframe tbody tr th {\n",
       "        vertical-align: top;\n",
       "    }\n",
       "\n",
       "    .dataframe thead th {\n",
       "        text-align: right;\n",
       "    }\n",
       "</style>\n",
       "<table border=\"1\" class=\"dataframe\">\n",
       "  <thead>\n",
       "    <tr style=\"text-align: right;\">\n",
       "      <th></th>\n",
       "      <th>Date</th>\n",
       "      <th>Harga</th>\n",
       "    </tr>\n",
       "  </thead>\n",
       "  <tbody>\n",
       "    <tr>\n",
       "      <th>0</th>\n",
       "      <td>December 14, 2023</td>\n",
       "      <td>15476</td>\n",
       "    </tr>\n",
       "    <tr>\n",
       "      <th>1</th>\n",
       "      <td>December 13, 2023</td>\n",
       "      <td>15360</td>\n",
       "    </tr>\n",
       "    <tr>\n",
       "      <th>2</th>\n",
       "      <td>December 12, 2023</td>\n",
       "      <td>15576</td>\n",
       "    </tr>\n",
       "    <tr>\n",
       "      <th>3</th>\n",
       "      <td>December 11, 2023</td>\n",
       "      <td>15653</td>\n",
       "    </tr>\n",
       "    <tr>\n",
       "      <th>4</th>\n",
       "      <td>December 8, 2023</td>\n",
       "      <td>15573</td>\n",
       "    </tr>\n",
       "    <tr>\n",
       "      <th>...</th>\n",
       "      <td>...</td>\n",
       "      <td>...</td>\n",
       "    </tr>\n",
       "    <tr>\n",
       "      <th>124</th>\n",
       "      <td>June 23, 2023</td>\n",
       "      <td>15045</td>\n",
       "    </tr>\n",
       "    <tr>\n",
       "      <th>125</th>\n",
       "      <td>June 22, 2023</td>\n",
       "      <td>14939</td>\n",
       "    </tr>\n",
       "    <tr>\n",
       "      <th>126</th>\n",
       "      <td>June 21, 2023</td>\n",
       "      <td>14945</td>\n",
       "    </tr>\n",
       "    <tr>\n",
       "      <th>127</th>\n",
       "      <td>June 20, 2023</td>\n",
       "      <td>15015</td>\n",
       "    </tr>\n",
       "    <tr>\n",
       "      <th>128</th>\n",
       "      <td>June 19, 2023</td>\n",
       "      <td>15014</td>\n",
       "    </tr>\n",
       "  </tbody>\n",
       "</table>\n",
       "<p>129 rows × 2 columns</p>\n",
       "</div>"
      ],
      "text/plain": [
       "                  Date  Harga\n",
       "0    December 14, 2023  15476\n",
       "1    December 13, 2023  15360\n",
       "2    December 12, 2023  15576\n",
       "3    December 11, 2023  15653\n",
       "4     December 8, 2023  15573\n",
       "..                 ...    ...\n",
       "124      June 23, 2023  15045\n",
       "125      June 22, 2023  14939\n",
       "126      June 21, 2023  14945\n",
       "127      June 20, 2023  15015\n",
       "128      June 19, 2023  15014\n",
       "\n",
       "[129 rows x 2 columns]"
      ]
     },
     "execution_count": 47,
     "metadata": {},
     "output_type": "execute_result"
    }
   ],
   "source": [
    "df['Harga']= df['Harga'].apply(lambda x: x.replace('$1 = Rp','')).str.replace(',','')\n",
    "df\n"
   ]
  },
  {
   "cell_type": "code",
   "execution_count": 48,
   "metadata": {},
   "outputs": [],
   "source": [
    "df['Date'] = pd.to_datetime(df['Date'])"
   ]
  },
  {
   "cell_type": "code",
   "execution_count": 49,
   "metadata": {},
   "outputs": [],
   "source": [
    "df['Harga'] = df['Harga'].astype('float64')"
   ]
  },
  {
   "cell_type": "code",
   "execution_count": 50,
   "metadata": {
    "ExecuteTime": {
     "end_time": "2020-01-13T05:12:59.165559Z",
     "start_time": "2020-01-13T05:12:58.910012Z"
    }
   },
   "outputs": [
    {
     "data": {
      "text/plain": [
       "Date     datetime64[ns]\n",
       "Harga           float64\n",
       "dtype: object"
      ]
     },
     "execution_count": 50,
     "metadata": {},
     "output_type": "execute_result"
    }
   ],
   "source": [
    "\n",
    "df.dtypes"
   ]
  },
  {
   "cell_type": "code",
   "execution_count": 51,
   "metadata": {},
   "outputs": [],
   "source": [
    "df.set_index('Date',inplace=True)"
   ]
  },
  {
   "cell_type": "code",
   "execution_count": 52,
   "metadata": {},
   "outputs": [
    {
     "data": {
      "text/html": [
       "<div>\n",
       "<style scoped>\n",
       "    .dataframe tbody tr th:only-of-type {\n",
       "        vertical-align: middle;\n",
       "    }\n",
       "\n",
       "    .dataframe tbody tr th {\n",
       "        vertical-align: top;\n",
       "    }\n",
       "\n",
       "    .dataframe thead th {\n",
       "        text-align: right;\n",
       "    }\n",
       "</style>\n",
       "<table border=\"1\" class=\"dataframe\">\n",
       "  <thead>\n",
       "    <tr style=\"text-align: right;\">\n",
       "      <th></th>\n",
       "      <th>Harga</th>\n",
       "    </tr>\n",
       "    <tr>\n",
       "      <th>Date</th>\n",
       "      <th></th>\n",
       "    </tr>\n",
       "  </thead>\n",
       "  <tbody>\n",
       "    <tr>\n",
       "      <th>2023-12-14</th>\n",
       "      <td>15476.0</td>\n",
       "    </tr>\n",
       "    <tr>\n",
       "      <th>2023-12-13</th>\n",
       "      <td>15360.0</td>\n",
       "    </tr>\n",
       "    <tr>\n",
       "      <th>2023-12-12</th>\n",
       "      <td>15576.0</td>\n",
       "    </tr>\n",
       "    <tr>\n",
       "      <th>2023-12-11</th>\n",
       "      <td>15653.0</td>\n",
       "    </tr>\n",
       "    <tr>\n",
       "      <th>2023-12-08</th>\n",
       "      <td>15573.0</td>\n",
       "    </tr>\n",
       "    <tr>\n",
       "      <th>...</th>\n",
       "      <td>...</td>\n",
       "    </tr>\n",
       "    <tr>\n",
       "      <th>2023-06-23</th>\n",
       "      <td>15045.0</td>\n",
       "    </tr>\n",
       "    <tr>\n",
       "      <th>2023-06-22</th>\n",
       "      <td>14939.0</td>\n",
       "    </tr>\n",
       "    <tr>\n",
       "      <th>2023-06-21</th>\n",
       "      <td>14945.0</td>\n",
       "    </tr>\n",
       "    <tr>\n",
       "      <th>2023-06-20</th>\n",
       "      <td>15015.0</td>\n",
       "    </tr>\n",
       "    <tr>\n",
       "      <th>2023-06-19</th>\n",
       "      <td>15014.0</td>\n",
       "    </tr>\n",
       "  </tbody>\n",
       "</table>\n",
       "<p>129 rows × 1 columns</p>\n",
       "</div>"
      ],
      "text/plain": [
       "              Harga\n",
       "Date               \n",
       "2023-12-14  15476.0\n",
       "2023-12-13  15360.0\n",
       "2023-12-12  15576.0\n",
       "2023-12-11  15653.0\n",
       "2023-12-08  15573.0\n",
       "...             ...\n",
       "2023-06-23  15045.0\n",
       "2023-06-22  14939.0\n",
       "2023-06-21  14945.0\n",
       "2023-06-20  15015.0\n",
       "2023-06-19  15014.0\n",
       "\n",
       "[129 rows x 1 columns]"
      ]
     },
     "execution_count": 52,
     "metadata": {},
     "output_type": "execute_result"
    }
   ],
   "source": [
    "df"
   ]
  },
  {
   "cell_type": "code",
   "execution_count": 53,
   "metadata": {},
   "outputs": [],
   "source": [
    "df1 = df.copy()"
   ]
  },
  {
   "cell_type": "markdown",
   "metadata": {},
   "source": [
    "then we can make plot visualization daily exchange kurs "
   ]
  },
  {
   "cell_type": "code",
   "execution_count": 55,
   "metadata": {},
   "outputs": [
    {
     "data": {
      "text/plain": [
       "<Axes: title={'center': 'Movement Daily Kurs Exchange'}, xlabel='Time', ylabel='Kurs Dolar'>"
      ]
     },
     "execution_count": 55,
     "metadata": {},
     "output_type": "execute_result"
    },
    {
     "data": {
      "image/png": "[encoded data removed]",
      "text/plain": [
       "<Figure size 640x480 with 1 Axes>"
      ]
     },
     "metadata": {},
     "output_type": "display_data"
    }
   ],
   "source": [
    "df.plot(\n",
    "    title = \"Movement Daily Kurs Exchange\",\n",
    "    xlabel = \"Time\",\n",
    "    ylabel = \"Kurs Dolar\"\n",
    ")"
   ]
  },
  {
   "cell_type": "markdown",
   "metadata": {},
   "source": [
    "from chart above we can get :\n",
    "- trend kurs dollar tends to rise\n",
    "- The highest dollar exchange rate was in November"
   ]
  },
  {
   "cell_type": "code",
   "execution_count": 56,
   "metadata": {},
   "outputs": [
    {
     "data": {
      "text/plain": [
       "15386.77"
      ]
     },
     "execution_count": 56,
     "metadata": {},
     "output_type": "execute_result"
    }
   ],
   "source": [
    "df[\"Harga\"].mean().round(2)"
   ]
  },
  {
   "cell_type": "markdown",
   "metadata": {},
   "source": [
    "then we can see the plot monthly exchange rate, make the interactive plot"
   ]
  },
  {
   "cell_type": "code",
   "execution_count": 57,
   "metadata": {},
   "outputs": [],
   "source": [
    "import plotly.express as px"
   ]
  },
  {
   "cell_type": "code",
   "execution_count": 59,
   "metadata": {},
   "outputs": [
    {
     "ename": "ValueError",
     "evalue": "Mime type rendering requires nbformat>=4.2.0 but it is not installed",
     "output_type": "error",
     "traceback": [
      "\u001b[0;31m---------------------------------------------------------------------------\u001b[0m",
      "\u001b[0;31mValueError\u001b[0m                                Traceback (most recent call last)",
      "File \u001b[0;32m~/miniconda3/envs/webscrapingLela/lib/python3.10/site-packages/IPython/core/formatters.py:922\u001b[0m, in \u001b[0;36mIPythonDisplayFormatter.__call__\u001b[0;34m(self, obj)\u001b[0m\n\u001b[1;32m    920\u001b[0m method \u001b[38;5;241m=\u001b[39m get_real_method(obj, \u001b[38;5;28mself\u001b[39m\u001b[38;5;241m.\u001b[39mprint_method)\n\u001b[1;32m    921\u001b[0m \u001b[38;5;28;01mif\u001b[39;00m method \u001b[38;5;129;01mis\u001b[39;00m \u001b[38;5;129;01mnot\u001b[39;00m \u001b[38;5;28;01mNone\u001b[39;00m:\n\u001b[0;32m--> 922\u001b[0m     \u001b[43mmethod\u001b[49m\u001b[43m(\u001b[49m\u001b[43m)\u001b[49m\n\u001b[1;32m    923\u001b[0m     \u001b[38;5;28;01mreturn\u001b[39;00m \u001b[38;5;28;01mTrue\u001b[39;00m\n",
      "File \u001b[0;32m~/miniconda3/envs/webscrapingLela/lib/python3.10/site-packages/plotly/basedatatypes.py:832\u001b[0m, in \u001b[0;36mBaseFigure._ipython_display_\u001b[0;34m(self)\u001b[0m\n\u001b[1;32m    829\u001b[0m \u001b[38;5;28;01mimport\u001b[39;00m \u001b[38;5;21;01mplotly\u001b[39;00m\u001b[38;5;21;01m.\u001b[39;00m\u001b[38;5;21;01mio\u001b[39;00m \u001b[38;5;28;01mas\u001b[39;00m \u001b[38;5;21;01mpio\u001b[39;00m\n\u001b[1;32m    831\u001b[0m \u001b[38;5;28;01mif\u001b[39;00m pio\u001b[38;5;241m.\u001b[39mrenderers\u001b[38;5;241m.\u001b[39mrender_on_display \u001b[38;5;129;01mand\u001b[39;00m pio\u001b[38;5;241m.\u001b[39mrenderers\u001b[38;5;241m.\u001b[39mdefault:\n\u001b[0;32m--> 832\u001b[0m     \u001b[43mpio\u001b[49m\u001b[38;5;241;43m.\u001b[39;49m\u001b[43mshow\u001b[49m\u001b[43m(\u001b[49m\u001b[38;5;28;43mself\u001b[39;49m\u001b[43m)\u001b[49m\n\u001b[1;32m    833\u001b[0m \u001b[38;5;28;01melse\u001b[39;00m:\n\u001b[1;32m    834\u001b[0m     \u001b[38;5;28mprint\u001b[39m(\u001b[38;5;28mrepr\u001b[39m(\u001b[38;5;28mself\u001b[39m))\n",
      "File \u001b[0;32m~/miniconda3/envs/webscrapingLela/lib/python3.10/site-packages/plotly/io/_renderers.py:394\u001b[0m, in \u001b[0;36mshow\u001b[0;34m(fig, renderer, validate, **kwargs)\u001b[0m\n\u001b[1;32m    389\u001b[0m         \u001b[38;5;28;01mraise\u001b[39;00m \u001b[38;5;167;01mValueError\u001b[39;00m(\n\u001b[1;32m    390\u001b[0m             \u001b[38;5;124m\"\u001b[39m\u001b[38;5;124mMime type rendering requires ipython but it is not installed\u001b[39m\u001b[38;5;124m\"\u001b[39m\n\u001b[1;32m    391\u001b[0m         )\n\u001b[1;32m    393\u001b[0m     \u001b[38;5;28;01mif\u001b[39;00m \u001b[38;5;129;01mnot\u001b[39;00m nbformat \u001b[38;5;129;01mor\u001b[39;00m Version(nbformat\u001b[38;5;241m.\u001b[39m__version__) \u001b[38;5;241m<\u001b[39m Version(\u001b[38;5;124m\"\u001b[39m\u001b[38;5;124m4.2.0\u001b[39m\u001b[38;5;124m\"\u001b[39m):\n\u001b[0;32m--> 394\u001b[0m         \u001b[38;5;28;01mraise\u001b[39;00m \u001b[38;5;167;01mValueError\u001b[39;00m(\n\u001b[1;32m    395\u001b[0m             \u001b[38;5;124m\"\u001b[39m\u001b[38;5;124mMime type rendering requires nbformat>=4.2.0 but it is not installed\u001b[39m\u001b[38;5;124m\"\u001b[39m\n\u001b[1;32m    396\u001b[0m         )\n\u001b[1;32m    398\u001b[0m     ipython_display\u001b[38;5;241m.\u001b[39mdisplay(bundle, raw\u001b[38;5;241m=\u001b[39m\u001b[38;5;28;01mTrue\u001b[39;00m)\n\u001b[1;32m    400\u001b[0m \u001b[38;5;66;03m# external renderers\u001b[39;00m\n",
      "\u001b[0;31mValueError\u001b[0m: Mime type rendering requires nbformat>=4.2.0 but it is not installed"
     ]
    },
    {
     "data": {
      "application/vnd.plotly.v1+json": {
       "config": {
        "plotlyServerURL": "https://plot.ly"
       },
       "data": [
        {
         "hovertemplate": "variable=Harga<br>Date=%{x}<br>value=%{y}<extra></extra>",
         "legendgroup": "Harga",
         "line": {
          "color": "#636efa",
          "dash": "solid"
         },
         "marker": {
          "symbol": "circle"
         },
         "mode": "lines",
         "name": "Harga",
         "orientation": "v",
         "showlegend": true,
         "type": "scatter",
         "x": [
          "2023-12-14T00:00:00",
          "2023-12-13T00:00:00",
          "2023-12-12T00:00:00",
          "2023-12-11T00:00:00",
          "2023-12-08T00:00:00",
          "2023-12-07T00:00:00",
          "2023-12-06T00:00:00",
          "2023-12-05T00:00:00",
          "2023-12-04T00:00:00",
          "2023-12-01T00:00:00",
          "2023-11-30T00:00:00",
          "2023-11-29T00:00:00",
          "2023-11-28T00:00:00",
          "2023-11-27T00:00:00",
          "2023-11-24T00:00:00",
          "2023-11-23T00:00:00",
          "2023-11-22T00:00:00",
          "2023-11-21T00:00:00",
          "2023-11-20T00:00:00",
          "2023-11-17T00:00:00",
          "2023-11-16T00:00:00",
          "2023-11-15T00:00:00",
          "2023-11-14T00:00:00",
          "2023-11-13T00:00:00",
          "2023-11-10T00:00:00",
          "2023-11-09T00:00:00",
          "2023-11-08T00:00:00",
          "2023-11-07T00:00:00",
          "2023-11-06T00:00:00",
          "2023-11-03T00:00:00",
          "2023-11-02T00:00:00",
          "2023-11-01T00:00:00",
          "2023-10-31T00:00:00",
          "2023-10-30T00:00:00",
          "2023-10-27T00:00:00",
          "2023-10-26T00:00:00",
          "2023-10-25T00:00:00",
          "2023-10-24T00:00:00",
          "2023-10-23T00:00:00",
          "2023-10-20T00:00:00",
          "2023-10-19T00:00:00",
          "2023-10-18T00:00:00",
          "2023-10-17T00:00:00",
          "2023-10-16T00:00:00",
          "2023-10-13T00:00:00",
          "2023-10-12T00:00:00",
          "2023-10-11T00:00:00",
          "2023-10-10T00:00:00",
          "2023-10-09T00:00:00",
          "2023-10-06T00:00:00",
          "2023-10-05T00:00:00",
          "2023-10-04T00:00:00",
          "2023-10-03T00:00:00",
          "2023-10-02T00:00:00",
          "2023-09-29T00:00:00",
          "2023-09-28T00:00:00",
          "2023-09-27T00:00:00",
          "2023-09-26T00:00:00",
          "2023-09-25T00:00:00",
          "2023-09-22T00:00:00",
          "2023-09-21T00:00:00",
          "2023-09-20T00:00:00",
          "2023-09-19T00:00:00",
          "2023-09-18T00:00:00",
          "2023-09-15T00:00:00",
          "2023-09-14T00:00:00",
          "2023-09-13T00:00:00",
          "2023-09-12T00:00:00",
          "2023-09-11T00:00:00",
          "2023-09-08T00:00:00",
          "2023-09-07T00:00:00",
          "2023-09-06T00:00:00",
          "2023-09-05T00:00:00",
          "2023-09-04T00:00:00",
          "2023-09-01T00:00:00",
          "2023-08-31T00:00:00",
          "2023-08-30T00:00:00",
          "2023-08-29T00:00:00",
          "2023-08-28T00:00:00",
          "2023-08-25T00:00:00",
          "2023-08-24T00:00:00",
          "2023-08-23T00:00:00",
          "2023-08-22T00:00:00",
          "2023-08-21T00:00:00",
          "2023-08-18T00:00:00",
          "2023-08-17T00:00:00",
          "2023-08-16T00:00:00",
          "2023-08-15T00:00:00",
          "2023-08-14T00:00:00",
          "2023-08-11T00:00:00",
          "2023-08-10T00:00:00",
          "2023-08-09T00:00:00",
          "2023-08-08T00:00:00",
          "2023-08-07T00:00:00",
          "2023-08-04T00:00:00",
          "2023-08-03T00:00:00",
          "2023-08-02T00:00:00",
          "2023-08-01T00:00:00",
          "2023-07-31T00:00:00",
          "2023-07-28T00:00:00",
          "2023-07-27T00:00:00",
          "2023-07-26T00:00:00",
          "2023-07-25T00:00:00",
          "2023-07-24T00:00:00",
          "2023-07-21T00:00:00",
          "2023-07-20T00:00:00",
          "2023-07-19T00:00:00",
          "2023-07-18T00:00:00",
          "2023-07-17T00:00:00",
          "2023-07-14T00:00:00",
          "2023-07-13T00:00:00",
          "2023-07-12T00:00:00",
          "2023-07-11T00:00:00",
          "2023-07-10T00:00:00",
          "2023-07-07T00:00:00",
          "2023-07-06T00:00:00",
          "2023-07-05T00:00:00",
          "2023-07-04T00:00:00",
          "2023-07-03T00:00:00",
          "2023-06-30T00:00:00",
          "2023-06-29T00:00:00",
          "2023-06-28T00:00:00",
          "2023-06-27T00:00:00",
          "2023-06-26T00:00:00",
          "2023-06-23T00:00:00",
          "2023-06-22T00:00:00",
          "2023-06-21T00:00:00",
          "2023-06-20T00:00:00",
          "2023-06-19T00:00:00"
         ],
         "xaxis": "x",
         "y": [
          15476,
          15360,
          15576,
          15653,
          15573,
          15507,
          15514,
          15463,
          15485,
          15413,
          15559,
          15459,
          15352,
          15505,
          15540,
          15633,
          15656,
          15517,
          15389,
          15424,
          15484,
          15519,
          15459,
          15683,
          15694,
          15715,
          15625,
          15651,
          15577,
          15589,
          15852,
          15899,
          15919,
          15854,
          15911,
          15927,
          15881,
          15869,
          15897,
          15879,
          15864,
          15824,
          15730,
          15676,
          15703,
          15750,
          15700,
          15716,
          15705,
          15648,
          15636,
          15596,
          15620,
          15538,
          15493,
          15473,
          15573,
          15493,
          15412,
          15357,
          15408,
          15368,
          15382,
          15373,
          15367,
          15402,
          15361,
          15358,
          15348,
          15382,
          15361,
          15340,
          15320,
          15230,
          15258,
          15225,
          15223,
          15202,
          15248,
          15298,
          15246,
          15301,
          15324,
          15325,
          15321,
          15343,
          15369,
          15318,
          15330,
          15324,
          15263,
          15214,
          15212,
          15225,
          15153,
          15148,
          15227,
          15121,
          15099,
          15107,
          15102,
          15009,
          15027,
          15022,
          15043,
          15056,
          15009,
          14989,
          14972,
          15003,
          14954,
          14935,
          15140,
          15187,
          15162,
          15178,
          15078,
          15020,
          15063,
          15040,
          15059,
          14985,
          14988,
          15045,
          15045,
          14939,
          14945,
          15015,
          15014
         ],
         "yaxis": "y"
        }
       ],
       "layout": {
        "legend": {
         "title": {
          "text": "variable"
         },
         "tracegroupgap": 0
        },
        "margin": {
         "t": 60
        },
        "template": {
         "data": {
          "bar": [
           {
            "error_x": {
             "color": "#2a3f5f"
            },
            "error_y": {
             "color": "#2a3f5f"
            },
            "marker": {
             "line": {
              "color": "#E5ECF6",
              "width": 0.5
             },
             "pattern": {
              "fillmode": "overlay",
              "size": 10,
              "solidity": 0.2
             }
            },
            "type": "bar"
           }
          ],
          "barpolar": [
           {
            "marker": {
             "line": {
              "color": "#E5ECF6",
              "width": 0.5
             },
             "pattern": {
              "fillmode": "overlay",
              "size": 10,
              "solidity": 0.2
             }
            },
            "type": "barpolar"
           }
          ],
          "carpet": [
           {
            "aaxis": {
             "endlinecolor": "#2a3f5f",
             "gridcolor": "white",
             "linecolor": "white",
             "minorgridcolor": "white",
             "startlinecolor": "#2a3f5f"
            },
            "baxis": {
             "endlinecolor": "#2a3f5f",
             "gridcolor": "white",
             "linecolor": "white",
             "minorgridcolor": "white",
             "startlinecolor": "#2a3f5f"
            },
            "type": "carpet"
           }
          ],
          "choropleth": [
           {
            "colorbar": {
             "outlinewidth": 0,
             "ticks": ""
            },
            "type": "choropleth"
           }
          ],
          "contour": [
           {
            "colorbar": {
             "outlinewidth": 0,
             "ticks": ""
            },
            "colorscale": [
             [
              0,
              "#0d0887"
             ],
             [
              0.1111111111111111,
              "#46039f"
             ],
             [
              0.2222222222222222,
              "#7201a8"
             ],
             [
              0.3333333333333333,
              "#9c179e"
             ],
             [
              0.4444444444444444,
              "#bd3786"
             ],
             [
              0.5555555555555556,
              "#d8576b"
             ],
             [
              0.6666666666666666,
              "#ed7953"
             ],
             [
              0.7777777777777778,
              "#fb9f3a"
             ],
             [
              0.8888888888888888,
              "#fdca26"
             ],
             [
              1,
              "#f0f921"
             ]
            ],
            "type": "contour"
           }
          ],
          "contourcarpet": [
           {
            "colorbar": {
             "outlinewidth": 0,
             "ticks": ""
            },
            "type": "contourcarpet"
           }
          ],
          "heatmap": [
           {
            "colorbar": {
             "outlinewidth": 0,
             "ticks": ""
            },
            "colorscale": [
             [
              0,
              "#0d0887"
             ],
             [
              0.1111111111111111,
              "#46039f"
             ],
             [
              0.2222222222222222,
              "#7201a8"
             ],
             [
              0.3333333333333333,
              "#9c179e"
             ],
             [
              0.4444444444444444,
              "#bd3786"
             ],
             [
              0.5555555555555556,
              "#d8576b"
             ],
             [
              0.6666666666666666,
              "#ed7953"
             ],
             [
              0.7777777777777778,
              "#fb9f3a"
             ],
             [
              0.8888888888888888,
              "#fdca26"
             ],
             [
              1,
              "#f0f921"
             ]
            ],
            "type": "heatmap"
           }
          ],
          "heatmapgl": [
           {
            "colorbar": {
             "outlinewidth": 0,
             "ticks": ""
            },
            "colorscale": [
             [
              0,
              "#0d0887"
             ],
             [
              0.1111111111111111,
              "#46039f"
             ],
             [
              0.2222222222222222,
              "#7201a8"
             ],
             [
              0.3333333333333333,
              "#9c179e"
             ],
             [
              0.4444444444444444,
              "#bd3786"
             ],
             [
              0.5555555555555556,
              "#d8576b"
             ],
             [
              0.6666666666666666,
              "#ed7953"
             ],
             [
              0.7777777777777778,
              "#fb9f3a"
             ],
             [
              0.8888888888888888,
              "#fdca26"
             ],
             [
              1,
              "#f0f921"
             ]
            ],
            "type": "heatmapgl"
           }
          ],
          "histogram": [
           {
            "marker": {
             "pattern": {
              "fillmode": "overlay",
              "size": 10,
              "solidity": 0.2
             }
            },
            "type": "histogram"
           }
          ],
          "histogram2d": [
           {
            "colorbar": {
             "outlinewidth": 0,
             "ticks": ""
            },
            "colorscale": [
             [
              0,
              "#0d0887"
             ],
             [
              0.1111111111111111,
              "#46039f"
             ],
             [
              0.2222222222222222,
              "#7201a8"
             ],
             [
              0.3333333333333333,
              "#9c179e"
             ],
             [
              0.4444444444444444,
              "#bd3786"
             ],
             [
              0.5555555555555556,
              "#d8576b"
             ],
             [
              0.6666666666666666,
              "#ed7953"
             ],
             [
              0.7777777777777778,
              "#fb9f3a"
             ],
             [
              0.8888888888888888,
              "#fdca26"
             ],
             [
              1,
              "#f0f921"
             ]
            ],
            "type": "histogram2d"
           }
          ],
          "histogram2dcontour": [
           {
            "colorbar": {
             "outlinewidth": 0,
             "ticks": ""
            },
            "colorscale": [
             [
              0,
              "#0d0887"
             ],
             [
              0.1111111111111111,
              "#46039f"
             ],
             [
              0.2222222222222222,
              "#7201a8"
             ],
             [
              0.3333333333333333,
              "#9c179e"
             ],
             [
              0.4444444444444444,
              "#bd3786"
             ],
             [
              0.5555555555555556,
              "#d8576b"
             ],
             [
              0.6666666666666666,
              "#ed7953"
             ],
             [
              0.7777777777777778,
              "#fb9f3a"
             ],
             [
              0.8888888888888888,
              "#fdca26"
             ],
             [
              1,
              "#f0f921"
             ]
            ],
            "type": "histogram2dcontour"
           }
          ],
          "mesh3d": [
           {
            "colorbar": {
             "outlinewidth": 0,
             "ticks": ""
            },
            "type": "mesh3d"
           }
          ],
          "parcoords": [
           {
            "line": {
             "colorbar": {
              "outlinewidth": 0,
              "ticks": ""
             }
            },
            "type": "parcoords"
           }
          ],
          "pie": [
           {
            "automargin": true,
            "type": "pie"
           }
          ],
          "scatter": [
           {
            "fillpattern": {
             "fillmode": "overlay",
             "size": 10,
             "solidity": 0.2
            },
            "type": "scatter"
           }
          ],
          "scatter3d": [
           {
            "line": {
             "colorbar": {
              "outlinewidth": 0,
              "ticks": ""
             }
            },
            "marker": {
             "colorbar": {
              "outlinewidth": 0,
              "ticks": ""
             }
            },
            "type": "scatter3d"
           }
          ],
          "scattercarpet": [
           {
            "marker": {
             "colorbar": {
              "outlinewidth": 0,
              "ticks": ""
             }
            },
            "type": "scattercarpet"
           }
          ],
          "scattergeo": [
           {
            "marker": {
             "colorbar": {
              "outlinewidth": 0,
              "ticks": ""
             }
            },
            "type": "scattergeo"
           }
          ],
          "scattergl": [
           {
            "marker": {
             "colorbar": {
              "outlinewidth": 0,
              "ticks": ""
             }
            },
            "type": "scattergl"
           }
          ],
          "scattermapbox": [
           {
            "marker": {
             "colorbar": {
              "outlinewidth": 0,
              "ticks": ""
             }
            },
            "type": "scattermapbox"
           }
          ],
          "scatterpolar": [
           {
            "marker": {
             "colorbar": {
              "outlinewidth": 0,
              "ticks": ""
             }
            },
            "type": "scatterpolar"
           }
          ],
          "scatterpolargl": [
           {
            "marker": {
             "colorbar": {
              "outlinewidth": 0,
              "ticks": ""
             }
            },
            "type": "scatterpolargl"
           }
          ],
          "scatterternary": [
           {
            "marker": {
             "colorbar": {
              "outlinewidth": 0,
              "ticks": ""
             }
            },
            "type": "scatterternary"
           }
          ],
          "surface": [
           {
            "colorbar": {
             "outlinewidth": 0,
             "ticks": ""
            },
            "colorscale": [
             [
              0,
              "#0d0887"
             ],
             [
              0.1111111111111111,
              "#46039f"
             ],
             [
              0.2222222222222222,
              "#7201a8"
             ],
             [
              0.3333333333333333,
              "#9c179e"
             ],
             [
              0.4444444444444444,
              "#bd3786"
             ],
             [
              0.5555555555555556,
              "#d8576b"
             ],
             [
              0.6666666666666666,
              "#ed7953"
             ],
             [
              0.7777777777777778,
              "#fb9f3a"
             ],
             [
              0.8888888888888888,
              "#fdca26"
             ],
             [
              1,
              "#f0f921"
             ]
            ],
            "type": "surface"
           }
          ],
          "table": [
           {
            "cells": {
             "fill": {
              "color": "#EBF0F8"
             },
             "line": {
              "color": "white"
             }
            },
            "header": {
             "fill": {
              "color": "#C8D4E3"
             },
             "line": {
              "color": "white"
             }
            },
            "type": "table"
           }
          ]
         },
         "layout": {
          "annotationdefaults": {
           "arrowcolor": "#2a3f5f",
           "arrowhead": 0,
           "arrowwidth": 1
          },
          "autotypenumbers": "strict",
          "coloraxis": {
           "colorbar": {
            "outlinewidth": 0,
            "ticks": ""
           }
          },
          "colorscale": {
           "diverging": [
            [
             0,
             "#8e0152"
            ],
            [
             0.1,
             "#c51b7d"
            ],
            [
             0.2,
             "#de77ae"
            ],
            [
             0.3,
             "#f1b6da"
            ],
            [
             0.4,
             "#fde0ef"
            ],
            [
             0.5,
             "#f7f7f7"
            ],
            [
             0.6,
             "#e6f5d0"
            ],
            [
             0.7,
             "#b8e186"
            ],
            [
             0.8,
             "#7fbc41"
            ],
            [
             0.9,
             "#4d9221"
            ],
            [
             1,
             "#276419"
            ]
           ],
           "sequential": [
            [
             0,
             "#0d0887"
            ],
            [
             0.1111111111111111,
             "#46039f"
            ],
            [
             0.2222222222222222,
             "#7201a8"
            ],
            [
             0.3333333333333333,
             "#9c179e"
            ],
            [
             0.4444444444444444,
             "#bd3786"
            ],
            [
             0.5555555555555556,
             "#d8576b"
            ],
            [
             0.6666666666666666,
             "#ed7953"
            ],
            [
             0.7777777777777778,
             "#fb9f3a"
            ],
            [
             0.8888888888888888,
             "#fdca26"
            ],
            [
             1,
             "#f0f921"
            ]
           ],
           "sequentialminus": [
            [
             0,
             "#0d0887"
            ],
            [
             0.1111111111111111,
             "#46039f"
            ],
            [
             0.2222222222222222,
             "#7201a8"
            ],
            [
             0.3333333333333333,
             "#9c179e"
            ],
            [
             0.4444444444444444,
             "#bd3786"
            ],
            [
             0.5555555555555556,
             "#d8576b"
            ],
            [
             0.6666666666666666,
             "#ed7953"
            ],
            [
             0.7777777777777778,
             "#fb9f3a"
            ],
            [
             0.8888888888888888,
             "#fdca26"
            ],
            [
             1,
             "#f0f921"
            ]
           ]
          },
          "colorway": [
           "#636efa",
           "#EF553B",
           "#00cc96",
           "#ab63fa",
           "#FFA15A",
           "#19d3f3",
           "#FF6692",
           "#B6E880",
           "#FF97FF",
           "#FECB52"
          ],
          "font": {
           "color": "#2a3f5f"
          },
          "geo": {
           "bgcolor": "white",
           "lakecolor": "white",
           "landcolor": "#E5ECF6",
           "showlakes": true,
           "showland": true,
           "subunitcolor": "white"
          },
          "hoverlabel": {
           "align": "left"
          },
          "hovermode": "closest",
          "mapbox": {
           "style": "light"
          },
          "paper_bgcolor": "white",
          "plot_bgcolor": "#E5ECF6",
          "polar": {
           "angularaxis": {
            "gridcolor": "white",
            "linecolor": "white",
            "ticks": ""
           },
           "bgcolor": "#E5ECF6",
           "radialaxis": {
            "gridcolor": "white",
            "linecolor": "white",
            "ticks": ""
           }
          },
          "scene": {
           "xaxis": {
            "backgroundcolor": "#E5ECF6",
            "gridcolor": "white",
            "gridwidth": 2,
            "linecolor": "white",
            "showbackground": true,
            "ticks": "",
            "zerolinecolor": "white"
           },
           "yaxis": {
            "backgroundcolor": "#E5ECF6",
            "gridcolor": "white",
            "gridwidth": 2,
            "linecolor": "white",
            "showbackground": true,
            "ticks": "",
            "zerolinecolor": "white"
           },
           "zaxis": {
            "backgroundcolor": "#E5ECF6",
            "gridcolor": "white",
            "gridwidth": 2,
            "linecolor": "white",
            "showbackground": true,
            "ticks": "",
            "zerolinecolor": "white"
           }
          },
          "shapedefaults": {
           "line": {
            "color": "#2a3f5f"
           }
          },
          "ternary": {
           "aaxis": {
            "gridcolor": "white",
            "linecolor": "white",
            "ticks": ""
           },
           "baxis": {
            "gridcolor": "white",
            "linecolor": "white",
            "ticks": ""
           },
           "bgcolor": "#E5ECF6",
           "caxis": {
            "gridcolor": "white",
            "linecolor": "white",
            "ticks": ""
           }
          },
          "title": {
           "x": 0.05
          },
          "xaxis": {
           "automargin": true,
           "gridcolor": "white",
           "linecolor": "white",
           "ticks": "",
           "title": {
            "standoff": 15
           },
           "zerolinecolor": "white",
           "zerolinewidth": 2
          },
          "yaxis": {
           "automargin": true,
           "gridcolor": "white",
           "linecolor": "white",
           "ticks": "",
           "title": {
            "standoff": 15
           },
           "zerolinecolor": "white",
           "zerolinewidth": 2
          }
         }
        },
        "xaxis": {
         "anchor": "y",
         "domain": [
          0,
          1
         ],
         "title": {
          "text": "Date"
         }
        },
        "yaxis": {
         "anchor": "x",
         "domain": [
          0,
          1
         ],
         "title": {
          "text": "value"
         }
        }
       }
      },
      "text/html": [
       "<div>                        <script type=\"text/javascript\">window.PlotlyConfig = {MathJaxConfig: 'local'};</script>\n",
       "        <script charset=\"utf-8\" src=\"https://cdn.plot.ly/plotly-2.27.0.min.js\"></script>                <div id=\"66382a5f-5a24-4b3f-bdc8-b73ee4de61fb\" class=\"plotly-graph-div\" style=\"height:100%; width:100%;\"></div>            <script type=\"text/javascript\">                                    window.PLOTLYENV=window.PLOTLYENV || {};                                    if (document.getElementById(\"66382a5f-5a24-4b3f-bdc8-b73ee4de61fb\")) {                    Plotly.newPlot(                        \"66382a5f-5a24-4b3f-bdc8-b73ee4de61fb\",                        [{\"hovertemplate\":\"variable=Harga\\u003cbr\\u003eDate=%{x}\\u003cbr\\u003evalue=%{y}\\u003cextra\\u003e\\u003c\\u002fextra\\u003e\",\"legendgroup\":\"Harga\",\"line\":{\"color\":\"#636efa\",\"dash\":\"solid\"},\"marker\":{\"symbol\":\"circle\"},\"mode\":\"lines\",\"name\":\"Harga\",\"orientation\":\"v\",\"showlegend\":true,\"x\":[\"2023-12-14T00:00:00\",\"2023-12-13T00:00:00\",\"2023-12-12T00:00:00\",\"2023-12-11T00:00:00\",\"2023-12-08T00:00:00\",\"2023-12-07T00:00:00\",\"2023-12-06T00:00:00\",\"2023-12-05T00:00:00\",\"2023-12-04T00:00:00\",\"2023-12-01T00:00:00\",\"2023-11-30T00:00:00\",\"2023-11-29T00:00:00\",\"2023-11-28T00:00:00\",\"2023-11-27T00:00:00\",\"2023-11-24T00:00:00\",\"2023-11-23T00:00:00\",\"2023-11-22T00:00:00\",\"2023-11-21T00:00:00\",\"2023-11-20T00:00:00\",\"2023-11-17T00:00:00\",\"2023-11-16T00:00:00\",\"2023-11-15T00:00:00\",\"2023-11-14T00:00:00\",\"2023-11-13T00:00:00\",\"2023-11-10T00:00:00\",\"2023-11-09T00:00:00\",\"2023-11-08T00:00:00\",\"2023-11-07T00:00:00\",\"2023-11-06T00:00:00\",\"2023-11-03T00:00:00\",\"2023-11-02T00:00:00\",\"2023-11-01T00:00:00\",\"2023-10-31T00:00:00\",\"2023-10-30T00:00:00\",\"2023-10-27T00:00:00\",\"2023-10-26T00:00:00\",\"2023-10-25T00:00:00\",\"2023-10-24T00:00:00\",\"2023-10-23T00:00:00\",\"2023-10-20T00:00:00\",\"2023-10-19T00:00:00\",\"2023-10-18T00:00:00\",\"2023-10-17T00:00:00\",\"2023-10-16T00:00:00\",\"2023-10-13T00:00:00\",\"2023-10-12T00:00:00\",\"2023-10-11T00:00:00\",\"2023-10-10T00:00:00\",\"2023-10-09T00:00:00\",\"2023-10-06T00:00:00\",\"2023-10-05T00:00:00\",\"2023-10-04T00:00:00\",\"2023-10-03T00:00:00\",\"2023-10-02T00:00:00\",\"2023-09-29T00:00:00\",\"2023-09-28T00:00:00\",\"2023-09-27T00:00:00\",\"2023-09-26T00:00:00\",\"2023-09-25T00:00:00\",\"2023-09-22T00:00:00\",\"2023-09-21T00:00:00\",\"2023-09-20T00:00:00\",\"2023-09-19T00:00:00\",\"2023-09-18T00:00:00\",\"2023-09-15T00:00:00\",\"2023-09-14T00:00:00\",\"2023-09-13T00:00:00\",\"2023-09-12T00:00:00\",\"2023-09-11T00:00:00\",\"2023-09-08T00:00:00\",\"2023-09-07T00:00:00\",\"2023-09-06T00:00:00\",\"2023-09-05T00:00:00\",\"2023-09-04T00:00:00\",\"2023-09-01T00:00:00\",\"2023-08-31T00:00:00\",\"2023-08-30T00:00:00\",\"2023-08-29T00:00:00\",\"2023-08-28T00:00:00\",\"2023-08-25T00:00:00\",\"2023-08-24T00:00:00\",\"2023-08-23T00:00:00\",\"2023-08-22T00:00:00\",\"2023-08-21T00:00:00\",\"2023-08-18T00:00:00\",\"2023-08-17T00:00:00\",\"2023-08-16T00:00:00\",\"2023-08-15T00:00:00\",\"2023-08-14T00:00:00\",\"2023-08-11T00:00:00\",\"2023-08-10T00:00:00\",\"2023-08-09T00:00:00\",\"2023-08-08T00:00:00\",\"2023-08-07T00:00:00\",\"2023-08-04T00:00:00\",\"2023-08-03T00:00:00\",\"2023-08-02T00:00:00\",\"2023-08-01T00:00:00\",\"2023-07-31T00:00:00\",\"2023-07-28T00:00:00\",\"2023-07-27T00:00:00\",\"2023-07-26T00:00:00\",\"2023-07-25T00:00:00\",\"2023-07-24T00:00:00\",\"2023-07-21T00:00:00\",\"2023-07-20T00:00:00\",\"2023-07-19T00:00:00\",\"2023-07-18T00:00:00\",\"2023-07-17T00:00:00\",\"2023-07-14T00:00:00\",\"2023-07-13T00:00:00\",\"2023-07-12T00:00:00\",\"2023-07-11T00:00:00\",\"2023-07-10T00:00:00\",\"2023-07-07T00:00:00\",\"2023-07-06T00:00:00\",\"2023-07-05T00:00:00\",\"2023-07-04T00:00:00\",\"2023-07-03T00:00:00\",\"2023-06-30T00:00:00\",\"2023-06-29T00:00:00\",\"2023-06-28T00:00:00\",\"2023-06-27T00:00:00\",\"2023-06-26T00:00:00\",\"2023-06-23T00:00:00\",\"2023-06-22T00:00:00\",\"2023-06-21T00:00:00\",\"2023-06-20T00:00:00\",\"2023-06-19T00:00:00\"],\"xaxis\":\"x\",\"y\":[15476.0,15360.0,15576.0,15653.0,15573.0,15507.0,15514.0,15463.0,15485.0,15413.0,15559.0,15459.0,15352.0,15505.0,15540.0,15633.0,15656.0,15517.0,15389.0,15424.0,15484.0,15519.0,15459.0,15683.0,15694.0,15715.0,15625.0,15651.0,15577.0,15589.0,15852.0,15899.0,15919.0,15854.0,15911.0,15927.0,15881.0,15869.0,15897.0,15879.0,15864.0,15824.0,15730.0,15676.0,15703.0,15750.0,15700.0,15716.0,15705.0,15648.0,15636.0,15596.0,15620.0,15538.0,15493.0,15473.0,15573.0,15493.0,15412.0,15357.0,15408.0,15368.0,15382.0,15373.0,15367.0,15402.0,15361.0,15358.0,15348.0,15382.0,15361.0,15340.0,15320.0,15230.0,15258.0,15225.0,15223.0,15202.0,15248.0,15298.0,15246.0,15301.0,15324.0,15325.0,15321.0,15343.0,15369.0,15318.0,15330.0,15324.0,15263.0,15214.0,15212.0,15225.0,15153.0,15148.0,15227.0,15121.0,15099.0,15107.0,15102.0,15009.0,15027.0,15022.0,15043.0,15056.0,15009.0,14989.0,14972.0,15003.0,14954.0,14935.0,15140.0,15187.0,15162.0,15178.0,15078.0,15020.0,15063.0,15040.0,15059.0,14985.0,14988.0,15045.0,15045.0,14939.0,14945.0,15015.0,15014.0],\"yaxis\":\"y\",\"type\":\"scatter\"}],                        {\"template\":{\"data\":{\"histogram2dcontour\":[{\"type\":\"histogram2dcontour\",\"colorbar\":{\"outlinewidth\":0,\"ticks\":\"\"},\"colorscale\":[[0.0,\"#0d0887\"],[0.1111111111111111,\"#46039f\"],[0.2222222222222222,\"#7201a8\"],[0.3333333333333333,\"#9c179e\"],[0.4444444444444444,\"#bd3786\"],[0.5555555555555556,\"#d8576b\"],[0.6666666666666666,\"#ed7953\"],[0.7777777777777778,\"#fb9f3a\"],[0.8888888888888888,\"#fdca26\"],[1.0,\"#f0f921\"]]}],\"choropleth\":[{\"type\":\"choropleth\",\"colorbar\":{\"outlinewidth\":0,\"ticks\":\"\"}}],\"histogram2d\":[{\"type\":\"histogram2d\",\"colorbar\":{\"outlinewidth\":0,\"ticks\":\"\"},\"colorscale\":[[0.0,\"#0d0887\"],[0.1111111111111111,\"#46039f\"],[0.2222222222222222,\"#7201a8\"],[0.3333333333333333,\"#9c179e\"],[0.4444444444444444,\"#bd3786\"],[0.5555555555555556,\"#d8576b\"],[0.6666666666666666,\"#ed7953\"],[0.7777777777777778,\"#fb9f3a\"],[0.8888888888888888,\"#fdca26\"],[1.0,\"#f0f921\"]]}],\"heatmap\":[{\"type\":\"heatmap\",\"colorbar\":{\"outlinewidth\":0,\"ticks\":\"\"},\"colorscale\":[[0.0,\"#0d0887\"],[0.1111111111111111,\"#46039f\"],[0.2222222222222222,\"#7201a8\"],[0.3333333333333333,\"#9c179e\"],[0.4444444444444444,\"#bd3786\"],[0.5555555555555556,\"#d8576b\"],[0.6666666666666666,\"#ed7953\"],[0.7777777777777778,\"#fb9f3a\"],[0.8888888888888888,\"#fdca26\"],[1.0,\"#f0f921\"]]}],\"heatmapgl\":[{\"type\":\"heatmapgl\",\"colorbar\":{\"outlinewidth\":0,\"ticks\":\"\"},\"colorscale\":[[0.0,\"#0d0887\"],[0.1111111111111111,\"#46039f\"],[0.2222222222222222,\"#7201a8\"],[0.3333333333333333,\"#9c179e\"],[0.4444444444444444,\"#bd3786\"],[0.5555555555555556,\"#d8576b\"],[0.6666666666666666,\"#ed7953\"],[0.7777777777777778,\"#fb9f3a\"],[0.8888888888888888,\"#fdca26\"],[1.0,\"#f0f921\"]]}],\"contourcarpet\":[{\"type\":\"contourcarpet\",\"colorbar\":{\"outlinewidth\":0,\"ticks\":\"\"}}],\"contour\":[{\"type\":\"contour\",\"colorbar\":{\"outlinewidth\":0,\"ticks\":\"\"},\"colorscale\":[[0.0,\"#0d0887\"],[0.1111111111111111,\"#46039f\"],[0.2222222222222222,\"#7201a8\"],[0.3333333333333333,\"#9c179e\"],[0.4444444444444444,\"#bd3786\"],[0.5555555555555556,\"#d8576b\"],[0.6666666666666666,\"#ed7953\"],[0.7777777777777778,\"#fb9f3a\"],[0.8888888888888888,\"#fdca26\"],[1.0,\"#f0f921\"]]}],\"surface\":[{\"type\":\"surface\",\"colorbar\":{\"outlinewidth\":0,\"ticks\":\"\"},\"colorscale\":[[0.0,\"#0d0887\"],[0.1111111111111111,\"#46039f\"],[0.2222222222222222,\"#7201a8\"],[0.3333333333333333,\"#9c179e\"],[0.4444444444444444,\"#bd3786\"],[0.5555555555555556,\"#d8576b\"],[0.6666666666666666,\"#ed7953\"],[0.7777777777777778,\"#fb9f3a\"],[0.8888888888888888,\"#fdca26\"],[1.0,\"#f0f921\"]]}],\"mesh3d\":[{\"type\":\"mesh3d\",\"colorbar\":{\"outlinewidth\":0,\"ticks\":\"\"}}],\"scatter\":[{\"fillpattern\":{\"fillmode\":\"overlay\",\"size\":10,\"solidity\":0.2},\"type\":\"scatter\"}],\"parcoords\":[{\"type\":\"parcoords\",\"line\":{\"colorbar\":{\"outlinewidth\":0,\"ticks\":\"\"}}}],\"scatterpolargl\":[{\"type\":\"scatterpolargl\",\"marker\":{\"colorbar\":{\"outlinewidth\":0,\"ticks\":\"\"}}}],\"bar\":[{\"error_x\":{\"color\":\"#2a3f5f\"},\"error_y\":{\"color\":\"#2a3f5f\"},\"marker\":{\"line\":{\"color\":\"#E5ECF6\",\"width\":0.5},\"pattern\":{\"fillmode\":\"overlay\",\"size\":10,\"solidity\":0.2}},\"type\":\"bar\"}],\"scattergeo\":[{\"type\":\"scattergeo\",\"marker\":{\"colorbar\":{\"outlinewidth\":0,\"ticks\":\"\"}}}],\"scatterpolar\":[{\"type\":\"scatterpolar\",\"marker\":{\"colorbar\":{\"outlinewidth\":0,\"ticks\":\"\"}}}],\"histogram\":[{\"marker\":{\"pattern\":{\"fillmode\":\"overlay\",\"size\":10,\"solidity\":0.2}},\"type\":\"histogram\"}],\"scattergl\":[{\"type\":\"scattergl\",\"marker\":{\"colorbar\":{\"outlinewidth\":0,\"ticks\":\"\"}}}],\"scatter3d\":[{\"type\":\"scatter3d\",\"line\":{\"colorbar\":{\"outlinewidth\":0,\"ticks\":\"\"}},\"marker\":{\"colorbar\":{\"outlinewidth\":0,\"ticks\":\"\"}}}],\"scattermapbox\":[{\"type\":\"scattermapbox\",\"marker\":{\"colorbar\":{\"outlinewidth\":0,\"ticks\":\"\"}}}],\"scatterternary\":[{\"type\":\"scatterternary\",\"marker\":{\"colorbar\":{\"outlinewidth\":0,\"ticks\":\"\"}}}],\"scattercarpet\":[{\"type\":\"scattercarpet\",\"marker\":{\"colorbar\":{\"outlinewidth\":0,\"ticks\":\"\"}}}],\"carpet\":[{\"aaxis\":{\"endlinecolor\":\"#2a3f5f\",\"gridcolor\":\"white\",\"linecolor\":\"white\",\"minorgridcolor\":\"white\",\"startlinecolor\":\"#2a3f5f\"},\"baxis\":{\"endlinecolor\":\"#2a3f5f\",\"gridcolor\":\"white\",\"linecolor\":\"white\",\"minorgridcolor\":\"white\",\"startlinecolor\":\"#2a3f5f\"},\"type\":\"carpet\"}],\"table\":[{\"cells\":{\"fill\":{\"color\":\"#EBF0F8\"},\"line\":{\"color\":\"white\"}},\"header\":{\"fill\":{\"color\":\"#C8D4E3\"},\"line\":{\"color\":\"white\"}},\"type\":\"table\"}],\"barpolar\":[{\"marker\":{\"line\":{\"color\":\"#E5ECF6\",\"width\":0.5},\"pattern\":{\"fillmode\":\"overlay\",\"size\":10,\"solidity\":0.2}},\"type\":\"barpolar\"}],\"pie\":[{\"automargin\":true,\"type\":\"pie\"}]},\"layout\":{\"autotypenumbers\":\"strict\",\"colorway\":[\"#636efa\",\"#EF553B\",\"#00cc96\",\"#ab63fa\",\"#FFA15A\",\"#19d3f3\",\"#FF6692\",\"#B6E880\",\"#FF97FF\",\"#FECB52\"],\"font\":{\"color\":\"#2a3f5f\"},\"hovermode\":\"closest\",\"hoverlabel\":{\"align\":\"left\"},\"paper_bgcolor\":\"white\",\"plot_bgcolor\":\"#E5ECF6\",\"polar\":{\"bgcolor\":\"#E5ECF6\",\"angularaxis\":{\"gridcolor\":\"white\",\"linecolor\":\"white\",\"ticks\":\"\"},\"radialaxis\":{\"gridcolor\":\"white\",\"linecolor\":\"white\",\"ticks\":\"\"}},\"ternary\":{\"bgcolor\":\"#E5ECF6\",\"aaxis\":{\"gridcolor\":\"white\",\"linecolor\":\"white\",\"ticks\":\"\"},\"baxis\":{\"gridcolor\":\"white\",\"linecolor\":\"white\",\"ticks\":\"\"},\"caxis\":{\"gridcolor\":\"white\",\"linecolor\":\"white\",\"ticks\":\"\"}},\"coloraxis\":{\"colorbar\":{\"outlinewidth\":0,\"ticks\":\"\"}},\"colorscale\":{\"sequential\":[[0.0,\"#0d0887\"],[0.1111111111111111,\"#46039f\"],[0.2222222222222222,\"#7201a8\"],[0.3333333333333333,\"#9c179e\"],[0.4444444444444444,\"#bd3786\"],[0.5555555555555556,\"#d8576b\"],[0.6666666666666666,\"#ed7953\"],[0.7777777777777778,\"#fb9f3a\"],[0.8888888888888888,\"#fdca26\"],[1.0,\"#f0f921\"]],\"sequentialminus\":[[0.0,\"#0d0887\"],[0.1111111111111111,\"#46039f\"],[0.2222222222222222,\"#7201a8\"],[0.3333333333333333,\"#9c179e\"],[0.4444444444444444,\"#bd3786\"],[0.5555555555555556,\"#d8576b\"],[0.6666666666666666,\"#ed7953\"],[0.7777777777777778,\"#fb9f3a\"],[0.8888888888888888,\"#fdca26\"],[1.0,\"#f0f921\"]],\"diverging\":[[0,\"#8e0152\"],[0.1,\"#c51b7d\"],[0.2,\"#de77ae\"],[0.3,\"#f1b6da\"],[0.4,\"#fde0ef\"],[0.5,\"#f7f7f7\"],[0.6,\"#e6f5d0\"],[0.7,\"#b8e186\"],[0.8,\"#7fbc41\"],[0.9,\"#4d9221\"],[1,\"#276419\"]]},\"xaxis\":{\"gridcolor\":\"white\",\"linecolor\":\"white\",\"ticks\":\"\",\"title\":{\"standoff\":15},\"zerolinecolor\":\"white\",\"automargin\":true,\"zerolinewidth\":2},\"yaxis\":{\"gridcolor\":\"white\",\"linecolor\":\"white\",\"ticks\":\"\",\"title\":{\"standoff\":15},\"zerolinecolor\":\"white\",\"automargin\":true,\"zerolinewidth\":2},\"scene\":{\"xaxis\":{\"backgroundcolor\":\"#E5ECF6\",\"gridcolor\":\"white\",\"linecolor\":\"white\",\"showbackground\":true,\"ticks\":\"\",\"zerolinecolor\":\"white\",\"gridwidth\":2},\"yaxis\":{\"backgroundcolor\":\"#E5ECF6\",\"gridcolor\":\"white\",\"linecolor\":\"white\",\"showbackground\":true,\"ticks\":\"\",\"zerolinecolor\":\"white\",\"gridwidth\":2},\"zaxis\":{\"backgroundcolor\":\"#E5ECF6\",\"gridcolor\":\"white\",\"linecolor\":\"white\",\"showbackground\":true,\"ticks\":\"\",\"zerolinecolor\":\"white\",\"gridwidth\":2}},\"shapedefaults\":{\"line\":{\"color\":\"#2a3f5f\"}},\"annotationdefaults\":{\"arrowcolor\":\"#2a3f5f\",\"arrowhead\":0,\"arrowwidth\":1},\"geo\":{\"bgcolor\":\"white\",\"landcolor\":\"#E5ECF6\",\"subunitcolor\":\"white\",\"showland\":true,\"showlakes\":true,\"lakecolor\":\"white\"},\"title\":{\"x\":0.05},\"mapbox\":{\"style\":\"light\"}}},\"xaxis\":{\"anchor\":\"y\",\"domain\":[0.0,1.0],\"title\":{\"text\":\"Date\"}},\"yaxis\":{\"anchor\":\"x\",\"domain\":[0.0,1.0],\"title\":{\"text\":\"value\"}},\"legend\":{\"title\":{\"text\":\"variable\"},\"tracegroupgap\":0},\"margin\":{\"t\":60}},                        {\"responsive\": true}                    )                };                            </script>        </div>"
      ],
      "text/plain": [
       "Figure({\n",
       "    'data': [{'hovertemplate': 'variable=Harga<br>Date=%{x}<br>value=%{y}<extra></extra>',\n",
       "              'legendgroup': 'Harga',\n",
       "              'line': {'color': '#636efa', 'dash': 'solid'},\n",
       "              'marker': {'symbol': 'circle'},\n",
       "              'mode': 'lines',\n",
       "              'name': 'Harga',\n",
       "              'orientation': 'v',\n",
       "              'showlegend': True,\n",
       "              'type': 'scatter',\n",
       "              'x': array([datetime.datetime(2023, 12, 14, 0, 0),\n",
       "                          datetime.datetime(2023, 12, 13, 0, 0),\n",
       "                          datetime.datetime(2023, 12, 12, 0, 0),\n",
       "                          datetime.datetime(2023, 12, 11, 0, 0),\n",
       "                          datetime.datetime(2023, 12, 8, 0, 0),\n",
       "                          datetime.datetime(2023, 12, 7, 0, 0),\n",
       "                          datetime.datetime(2023, 12, 6, 0, 0),\n",
       "                          datetime.datetime(2023, 12, 5, 0, 0),\n",
       "                          datetime.datetime(2023, 12, 4, 0, 0),\n",
       "                          datetime.datetime(2023, 12, 1, 0, 0),\n",
       "                          datetime.datetime(2023, 11, 30, 0, 0),\n",
       "                          datetime.datetime(2023, 11, 29, 0, 0),\n",
       "                          datetime.datetime(2023, 11, 28, 0, 0),\n",
       "                          datetime.datetime(2023, 11, 27, 0, 0),\n",
       "                          datetime.datetime(2023, 11, 24, 0, 0),\n",
       "                          datetime.datetime(2023, 11, 23, 0, 0),\n",
       "                          datetime.datetime(2023, 11, 22, 0, 0),\n",
       "                          datetime.datetime(2023, 11, 21, 0, 0),\n",
       "                          datetime.datetime(2023, 11, 20, 0, 0),\n",
       "                          datetime.datetime(2023, 11, 17, 0, 0),\n",
       "                          datetime.datetime(2023, 11, 16, 0, 0),\n",
       "                          datetime.datetime(2023, 11, 15, 0, 0),\n",
       "                          datetime.datetime(2023, 11, 14, 0, 0),\n",
       "                          datetime.datetime(2023, 11, 13, 0, 0),\n",
       "                          datetime.datetime(2023, 11, 10, 0, 0),\n",
       "                          datetime.datetime(2023, 11, 9, 0, 0),\n",
       "                          datetime.datetime(2023, 11, 8, 0, 0),\n",
       "                          datetime.datetime(2023, 11, 7, 0, 0),\n",
       "                          datetime.datetime(2023, 11, 6, 0, 0),\n",
       "                          datetime.datetime(2023, 11, 3, 0, 0),\n",
       "                          datetime.datetime(2023, 11, 2, 0, 0),\n",
       "                          datetime.datetime(2023, 11, 1, 0, 0),\n",
       "                          datetime.datetime(2023, 10, 31, 0, 0),\n",
       "                          datetime.datetime(2023, 10, 30, 0, 0),\n",
       "                          datetime.datetime(2023, 10, 27, 0, 0),\n",
       "                          datetime.datetime(2023, 10, 26, 0, 0),\n",
       "                          datetime.datetime(2023, 10, 25, 0, 0),\n",
       "                          datetime.datetime(2023, 10, 24, 0, 0),\n",
       "                          datetime.datetime(2023, 10, 23, 0, 0),\n",
       "                          datetime.datetime(2023, 10, 20, 0, 0),\n",
       "                          datetime.datetime(2023, 10, 19, 0, 0),\n",
       "                          datetime.datetime(2023, 10, 18, 0, 0),\n",
       "                          datetime.datetime(2023, 10, 17, 0, 0),\n",
       "                          datetime.datetime(2023, 10, 16, 0, 0),\n",
       "                          datetime.datetime(2023, 10, 13, 0, 0),\n",
       "                          datetime.datetime(2023, 10, 12, 0, 0),\n",
       "                          datetime.datetime(2023, 10, 11, 0, 0),\n",
       "                          datetime.datetime(2023, 10, 10, 0, 0),\n",
       "                          datetime.datetime(2023, 10, 9, 0, 0),\n",
       "                          datetime.datetime(2023, 10, 6, 0, 0),\n",
       "                          datetime.datetime(2023, 10, 5, 0, 0),\n",
       "                          datetime.datetime(2023, 10, 4, 0, 0),\n",
       "                          datetime.datetime(2023, 10, 3, 0, 0),\n",
       "                          datetime.datetime(2023, 10, 2, 0, 0),\n",
       "                          datetime.datetime(2023, 9, 29, 0, 0),\n",
       "                          datetime.datetime(2023, 9, 28, 0, 0),\n",
       "                          datetime.datetime(2023, 9, 27, 0, 0),\n",
       "                          datetime.datetime(2023, 9, 26, 0, 0),\n",
       "                          datetime.datetime(2023, 9, 25, 0, 0),\n",
       "                          datetime.datetime(2023, 9, 22, 0, 0),\n",
       "                          datetime.datetime(2023, 9, 21, 0, 0),\n",
       "                          datetime.datetime(2023, 9, 20, 0, 0),\n",
       "                          datetime.datetime(2023, 9, 19, 0, 0),\n",
       "                          datetime.datetime(2023, 9, 18, 0, 0),\n",
       "                          datetime.datetime(2023, 9, 15, 0, 0),\n",
       "                          datetime.datetime(2023, 9, 14, 0, 0),\n",
       "                          datetime.datetime(2023, 9, 13, 0, 0),\n",
       "                          datetime.datetime(2023, 9, 12, 0, 0),\n",
       "                          datetime.datetime(2023, 9, 11, 0, 0),\n",
       "                          datetime.datetime(2023, 9, 8, 0, 0),\n",
       "                          datetime.datetime(2023, 9, 7, 0, 0),\n",
       "                          datetime.datetime(2023, 9, 6, 0, 0),\n",
       "                          datetime.datetime(2023, 9, 5, 0, 0),\n",
       "                          datetime.datetime(2023, 9, 4, 0, 0),\n",
       "                          datetime.datetime(2023, 9, 1, 0, 0),\n",
       "                          datetime.datetime(2023, 8, 31, 0, 0),\n",
       "                          datetime.datetime(2023, 8, 30, 0, 0),\n",
       "                          datetime.datetime(2023, 8, 29, 0, 0),\n",
       "                          datetime.datetime(2023, 8, 28, 0, 0),\n",
       "                          datetime.datetime(2023, 8, 25, 0, 0),\n",
       "                          datetime.datetime(2023, 8, 24, 0, 0),\n",
       "                          datetime.datetime(2023, 8, 23, 0, 0),\n",
       "                          datetime.datetime(2023, 8, 22, 0, 0),\n",
       "                          datetime.datetime(2023, 8, 21, 0, 0),\n",
       "                          datetime.datetime(2023, 8, 18, 0, 0),\n",
       "                          datetime.datetime(2023, 8, 17, 0, 0),\n",
       "                          datetime.datetime(2023, 8, 16, 0, 0),\n",
       "                          datetime.datetime(2023, 8, 15, 0, 0),\n",
       "                          datetime.datetime(2023, 8, 14, 0, 0),\n",
       "                          datetime.datetime(2023, 8, 11, 0, 0),\n",
       "                          datetime.datetime(2023, 8, 10, 0, 0),\n",
       "                          datetime.datetime(2023, 8, 9, 0, 0),\n",
       "                          datetime.datetime(2023, 8, 8, 0, 0),\n",
       "                          datetime.datetime(2023, 8, 7, 0, 0),\n",
       "                          datetime.datetime(2023, 8, 4, 0, 0),\n",
       "                          datetime.datetime(2023, 8, 3, 0, 0),\n",
       "                          datetime.datetime(2023, 8, 2, 0, 0),\n",
       "                          datetime.datetime(2023, 8, 1, 0, 0),\n",
       "                          datetime.datetime(2023, 7, 31, 0, 0),\n",
       "                          datetime.datetime(2023, 7, 28, 0, 0),\n",
       "                          datetime.datetime(2023, 7, 27, 0, 0),\n",
       "                          datetime.datetime(2023, 7, 26, 0, 0),\n",
       "                          datetime.datetime(2023, 7, 25, 0, 0),\n",
       "                          datetime.datetime(2023, 7, 24, 0, 0),\n",
       "                          datetime.datetime(2023, 7, 21, 0, 0),\n",
       "                          datetime.datetime(2023, 7, 20, 0, 0),\n",
       "                          datetime.datetime(2023, 7, 19, 0, 0),\n",
       "                          datetime.datetime(2023, 7, 18, 0, 0),\n",
       "                          datetime.datetime(2023, 7, 17, 0, 0),\n",
       "                          datetime.datetime(2023, 7, 14, 0, 0),\n",
       "                          datetime.datetime(2023, 7, 13, 0, 0),\n",
       "                          datetime.datetime(2023, 7, 12, 0, 0),\n",
       "                          datetime.datetime(2023, 7, 11, 0, 0),\n",
       "                          datetime.datetime(2023, 7, 10, 0, 0),\n",
       "                          datetime.datetime(2023, 7, 7, 0, 0),\n",
       "                          datetime.datetime(2023, 7, 6, 0, 0),\n",
       "                          datetime.datetime(2023, 7, 5, 0, 0),\n",
       "                          datetime.datetime(2023, 7, 4, 0, 0),\n",
       "                          datetime.datetime(2023, 7, 3, 0, 0),\n",
       "                          datetime.datetime(2023, 6, 30, 0, 0),\n",
       "                          datetime.datetime(2023, 6, 29, 0, 0),\n",
       "                          datetime.datetime(2023, 6, 28, 0, 0),\n",
       "                          datetime.datetime(2023, 6, 27, 0, 0),\n",
       "                          datetime.datetime(2023, 6, 26, 0, 0),\n",
       "                          datetime.datetime(2023, 6, 23, 0, 0),\n",
       "                          datetime.datetime(2023, 6, 22, 0, 0),\n",
       "                          datetime.datetime(2023, 6, 21, 0, 0),\n",
       "                          datetime.datetime(2023, 6, 20, 0, 0),\n",
       "                          datetime.datetime(2023, 6, 19, 0, 0)], dtype=object),\n",
       "              'xaxis': 'x',\n",
       "              'y': array([15476., 15360., 15576., 15653., 15573., 15507., 15514., 15463., 15485.,\n",
       "                          15413., 15559., 15459., 15352., 15505., 15540., 15633., 15656., 15517.,\n",
       "                          15389., 15424., 15484., 15519., 15459., 15683., 15694., 15715., 15625.,\n",
       "                          15651., 15577., 15589., 15852., 15899., 15919., 15854., 15911., 15927.,\n",
       "                          15881., 15869., 15897., 15879., 15864., 15824., 15730., 15676., 15703.,\n",
       "                          15750., 15700., 15716., 15705., 15648., 15636., 15596., 15620., 15538.,\n",
       "                          15493., 15473., 15573., 15493., 15412., 15357., 15408., 15368., 15382.,\n",
       "                          15373., 15367., 15402., 15361., 15358., 15348., 15382., 15361., 15340.,\n",
       "                          15320., 15230., 15258., 15225., 15223., 15202., 15248., 15298., 15246.,\n",
       "                          15301., 15324., 15325., 15321., 15343., 15369., 15318., 15330., 15324.,\n",
       "                          15263., 15214., 15212., 15225., 15153., 15148., 15227., 15121., 15099.,\n",
       "                          15107., 15102., 15009., 15027., 15022., 15043., 15056., 15009., 14989.,\n",
       "                          14972., 15003., 14954., 14935., 15140., 15187., 15162., 15178., 15078.,\n",
       "                          15020., 15063., 15040., 15059., 14985., 14988., 15045., 15045., 14939.,\n",
       "                          14945., 15015., 15014.]),\n",
       "              'yaxis': 'y'}],\n",
       "    'layout': {'legend': {'title': {'text': 'variable'}, 'tracegroupgap': 0},\n",
       "               'margin': {'t': 60},\n",
       "               'template': '...',\n",
       "               'xaxis': {'anchor': 'y', 'domain': [0.0, 1.0], 'title': {'text': 'Date'}},\n",
       "               'yaxis': {'anchor': 'x', 'domain': [0.0, 1.0], 'title': {'text': 'value'}}}\n",
       "})"
      ]
     },
     "execution_count": 59,
     "metadata": {},
     "output_type": "execute_result"
    }
   ],
   "source": [
    "px.line(df)"
   ]
  },
  {
   "cell_type": "markdown",
   "metadata": {},
   "source": [
    "then we can describes the form of data distribution with boxlot"
   ]
  },
  {
   "cell_type": "code",
   "execution_count": 64,
   "metadata": {},
   "outputs": [],
   "source": [
    "df1 = df1.reset_index()"
   ]
  },
  {
   "cell_type": "code",
   "execution_count": 65,
   "metadata": {},
   "outputs": [],
   "source": [
    "df1['Quarter']= df1['Date'].dt.to_period('Q')"
   ]
  },
  {
   "cell_type": "code",
   "execution_count": 69,
   "metadata": {},
   "outputs": [
    {
     "data": {
      "text/plain": [
       "Harga    Axes(0.125,0.11;0.775x0.77)\n",
       "dtype: object"
      ]
     },
     "execution_count": 69,
     "metadata": {},
     "output_type": "execute_result"
    },
    {
     "data": {
      "image/png": "[encoded data removed]",
      "text/plain": [
       "<Figure size 640x480 with 1 Axes>"
      ]
     },
     "metadata": {},
     "output_type": "display_data"
    }
   ],
   "source": [
    "df1.plot(\n",
    "    kind = \"box\",\n",
    "    by = \"Quarter\"\n",
    ")"
   ]
  },
  {
   "cell_type": "markdown",
   "metadata": {},
   "source": [
    "from the boxplot we can see :\n",
    "- the 4th quarter has the the highest range\n",
    "- the first quarter has the smallest range"
   ]
  },
  {
   "cell_type": "markdown",
   "metadata": {},
   "source": [
    "### Implementing your webscrapping to the flask dashboard\n",
    "\n",
    "- Copy paste all of your web scrapping process to the desired position on the `app.py`\n",
    "- Changing the title of the dasboard at `index.html`"
   ]
  },
  {
   "cell_type": "markdown",
   "metadata": {},
   "source": [
    "### Implement it at the webapps\n",
    "\n",
    "- You can create additional analysis from the data.\n",
    "- Implement it to the dashboard with at `app.py` dan `index.html`."
   ]
  }
 ],
 "metadata": {
  "kernelspec": {
   "display_name": "webscrapingLela",
   "language": "python",
   "name": "python3"
  },
  "language_info": {
   "codemirror_mode": {
    "name": "ipython",
    "version": 3
   },
   "file_extension": ".py",
   "mimetype": "text/x-python",
   "name": "python",
   "nbconvert_exporter": "python",
   "pygments_lexer": "ipython3",
   "version": "3.10.13"
  }
 },
 "nbformat": 4,
 "nbformat_minor": 2
}
